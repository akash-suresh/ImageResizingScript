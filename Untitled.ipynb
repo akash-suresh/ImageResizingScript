{
 "cells": [
  {
   "cell_type": "code",
   "execution_count": 4,
   "metadata": {
    "collapsed": false
   },
   "outputs": [],
   "source": [
    "#!/usr/bin/env python\n",
    "\n",
    "from PIL import Image\n",
    "import os, sys\n"
   ]
  },
  {
   "cell_type": "code",
   "execution_count": 11,
   "metadata": {
    "collapsed": true
   },
   "outputs": [],
   "source": [
    "def resizeImage(infile, dir, output_dir=\"\", size=(1024,768)):\n",
    "     outfile = os.path.splitext(infile)[0]+\"_resized\"\n",
    "     extension = os.path.splitext(infile)[1]\n",
    "\n",
    "     if extension.lower()!= \".jpg\":\n",
    "        return\n",
    "\n",
    "     if infile != outfile:\n",
    "        try :\n",
    "            im = Image.open(dir+os.sep+infile)\n",
    "            im.thumbnail(size, Image.ANTIALIAS)\n",
    "            im.save(output_dir+os.sep+outfile+extension,\"JPEG\")\n",
    "        except IOError:\n",
    "            print \"cannot reduce image for \", infile\n",
    "\n"
   ]
  },
  {
   "cell_type": "code",
   "execution_count": 12,
   "metadata": {
    "collapsed": true
   },
   "outputs": [],
   "source": [
    "if __name__==\"__main__\":\n",
    "    #dir = os.getcwd()\n",
    "    \n",
    "    if len(sys.argv[1:]) > 0:\n",
    "        args = sys.argv[1:]\n",
    "\n",
    "        if args[0] == \"-d\":\n",
    "            if args[1]!=\"./\":\n",
    "                dir = args[1]\n",
    "    dir = 'Large/'\n",
    "    output_dir = dir+os.sep+\"resized\"\n",
    "    if not os.path.exists(output_dir):\n",
    "        os.mkdir(output_dir)\n",
    "\n",
    "    for file in os.listdir(dir):\n",
    "        resizeImage(file,dir,output_dir=output_dir)"
   ]
  },
  {
   "cell_type": "code",
   "execution_count": null,
   "metadata": {
    "collapsed": true
   },
   "outputs": [],
   "source": []
  }
 ],
 "metadata": {
  "kernelspec": {
   "display_name": "Python 2",
   "language": "python",
   "name": "python2"
  },
  "language_info": {
   "codemirror_mode": {
    "name": "ipython",
    "version": 2
   },
   "file_extension": ".py",
   "mimetype": "text/x-python",
   "name": "python",
   "nbconvert_exporter": "python",
   "pygments_lexer": "ipython2",
   "version": "2.7.11"
  }
 },
 "nbformat": 4,
 "nbformat_minor": 0
}
